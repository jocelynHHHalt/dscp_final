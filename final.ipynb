{
 "cells": [
  {
   "metadata": {},
   "cell_type": "markdown",
   "source": "## The total purchase amounts across different seasons",
   "id": "3df257361a4857de"
  },
  {
   "metadata": {},
   "cell_type": "code",
   "outputs": [],
   "execution_count": null,
   "source": [
    "import pandas as pd\n",
    "import seaborn as sns\n",
    "import matplotlib.pyplot as plt\n",
    "\n",
    "file_path = 'shopping_trends.csv'  \n",
    "data = pd.read_csv(file_path)\n",
    "\n",
    "# Group data by Season and Category \n",
    "detailed_summary = data.groupby(['Season', 'Category']).agg(\n",
    "    Total_Purchase_Amount=('Purchase Amount (USD)', 'sum')\n",
    ").reset_index()\n",
    "\n",
    "# grouped bar chart\n",
    "sns.catplot(\n",
    "    data=detailed_summary,\n",
    "    x='Season',\n",
    "    y='Total_Purchase_Amount',\n",
    "    hue='Category',\n",
    "    kind='bar',\n",
    "    height=6,\n",
    "    aspect=1.5\n",
    ")\n",
    "\n",
    "# title and labels\n",
    "plt.title('Total Purchase Amount by Season and Category')\n",
    "plt.xlabel('Season')\n",
    "plt.ylabel('Total Purchase Amount (USD)')\n",
    "\n",
    "plt.show()"
   ],
   "id": "6fa19111cee9d5b"
  }
 ],
 "metadata": {
  "kernelspec": {
   "display_name": "Python 3",
   "language": "python",
   "name": "python3"
  },
  "language_info": {
   "codemirror_mode": {
    "name": "ipython",
    "version": 2
   },
   "file_extension": ".py",
   "mimetype": "text/x-python",
   "name": "python",
   "nbconvert_exporter": "python",
   "pygments_lexer": "ipython2",
   "version": "2.7.6"
  }
 },
 "nbformat": 4,
 "nbformat_minor": 5
}
